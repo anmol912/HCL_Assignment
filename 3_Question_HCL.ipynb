{
 "cells": [
  {
   "cell_type": "code",
   "execution_count": 1,
   "metadata": {},
   "outputs": [
    {
     "name": "stdout",
     "output_type": "stream",
     "text": [
      "Breadth first order traversal of binary tree is = \n",
      "1\n",
      "2\n",
      "5\n",
      "3\n",
      "6\n",
      "4\n"
     ]
    }
   ],
   "source": [
    "class Node:\n",
    "    def __init__(self ,info): \n",
    "        self.data = info\n",
    "        self.left = None\n",
    "        self.right = None\n",
    "\n",
    "def BFO(root):\n",
    "    if root == None: \n",
    "        return\n",
    "    \n",
    "    q = [] \n",
    "\n",
    "    q.append(root) \n",
    "\n",
    "    while len(q) > 0: \n",
    "        print(q[0].data) \n",
    "        node = q.pop(0) \n",
    "\n",
    "        if node.left != None: \n",
    "            q.append(node.left) \n",
    "\n",
    "        if node.right != None: \n",
    "            q.append(node.right) \n",
    "            \n",
    "root = Node(1) \n",
    "root.right = Node(2) \n",
    "root.right.right = Node(5) \n",
    "root.right.right.left = Node(3)\n",
    "root.right.right.right = Node(6)\n",
    "root.right.right.left.right = Node(4)\n",
    "\n",
    "print (\"Breadth first order traversal of binary tree is = \") \n",
    "BFO(root)\n"
   ]
  },
  {
   "cell_type": "code",
   "execution_count": null,
   "metadata": {},
   "outputs": [],
   "source": []
  }
 ],
 "metadata": {
  "kernelspec": {
   "display_name": "Python 3",
   "language": "python",
   "name": "python3"
  },
  "language_info": {
   "codemirror_mode": {
    "name": "ipython",
    "version": 3
   },
   "file_extension": ".py",
   "mimetype": "text/x-python",
   "name": "python",
   "nbconvert_exporter": "python",
   "pygments_lexer": "ipython3",
   "version": "3.7.6"
  }
 },
 "nbformat": 4,
 "nbformat_minor": 4
}
