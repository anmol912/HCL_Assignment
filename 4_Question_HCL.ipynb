{
 "cells": [
  {
   "cell_type": "code",
   "execution_count": 1,
   "metadata": {},
   "outputs": [
    {
     "name": "stdout",
     "output_type": "stream",
     "text": [
      "Enter Original String = aab\n",
      "Reduced String = b\n"
     ]
    }
   ],
   "source": [
    "def MaxReducedString(s):\n",
    "    l = list(s)\n",
    "    i=1\n",
    "    while i < len(l):\n",
    "        if l[i] == l[i-1]:\n",
    "            l.pop(i)\n",
    "            l.pop(i-1)\n",
    "            i=1\n",
    "        else:\n",
    "            i = i+1\n",
    "    \n",
    "    if len(l) == 0:\n",
    "        return (\"Empty String\")\n",
    "    else:\n",
    "        return(''.join(l))\n",
    "\n",
    "    \n",
    "\n",
    "\n",
    "\n",
    "print('Reduced String = ' + MaxReducedString(input(\"Enter Original String = \")))"
   ]
  },
  {
   "cell_type": "code",
   "execution_count": null,
   "metadata": {},
   "outputs": [],
   "source": []
  }
 ],
 "metadata": {
  "kernelspec": {
   "display_name": "Python 3",
   "language": "python",
   "name": "python3"
  },
  "language_info": {
   "codemirror_mode": {
    "name": "ipython",
    "version": 3
   },
   "file_extension": ".py",
   "mimetype": "text/x-python",
   "name": "python",
   "nbconvert_exporter": "python",
   "pygments_lexer": "ipython3",
   "version": "3.7.6"
  }
 },
 "nbformat": 4,
 "nbformat_minor": 4
}
