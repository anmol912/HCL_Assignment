{
 "cells": [
  {
   "cell_type": "code",
   "execution_count": 1,
   "metadata": {},
   "outputs": [
    {
     "name": "stdout",
     "output_type": "stream",
     "text": [
      "3\n",
      "2\n"
     ]
    }
   ],
   "source": [
    "class Node:\n",
    "    def __init__(self ,info): \n",
    "        self.data = info\n",
    "        self.left = None\n",
    "        self.right = None\n",
    "        \n",
    "def LCP(root, n1, n2):\n",
    "    if root == None:\n",
    "        return None\n",
    "    if root.data == n1 or root.data == n2:\n",
    "        return(root)\n",
    "    left = LCP(root.left, n1, n2)\n",
    "    right = LCP(root.right, n1, n2)\n",
    "    \n",
    "    if (left and right):\n",
    "        return root\n",
    "    if left != None:\n",
    "        return left\n",
    "    else:\n",
    "        return right\n",
    "\n",
    "def printFun1(root, t, n1, n2):\n",
    "    if root == None:\n",
    "        return False\n",
    "    \n",
    "    if root.data == t:\n",
    "        if root.data != n1 and root.data != n2:\n",
    "            print(root.data)\n",
    "        return True\n",
    "    \n",
    "    if printFun1(root.left, t, n1, n2) or printFun1(root.right, t, n1, n2):\n",
    "        if root.data != n1 and root.data != n2:\n",
    "            print(root.data)\n",
    "        return True\n",
    "    \n",
    "    return False\n",
    "\n",
    "\n",
    "def printFun2(root, n1, n2):\n",
    "    common = LCP(root, n1, n2)\n",
    "    if common == False:\n",
    "        return False\n",
    "    printFun1(root, common.data, n1, n2)\n",
    "\n",
    "        \n",
    "root = Node(2);\n",
    "root.left = Node(1);\n",
    "root.right = Node(3);\n",
    "root.right.left = Node(4);\n",
    "root.right.right = Node(5);\n",
    "root.right.right.right = Node(6);\n",
    "\n",
    "printFun2(root, 4, 6)"
   ]
  },
  {
   "cell_type": "code",
   "execution_count": null,
   "metadata": {},
   "outputs": [],
   "source": []
  }
 ],
 "metadata": {
  "kernelspec": {
   "display_name": "Python 3",
   "language": "python",
   "name": "python3"
  },
  "language_info": {
   "codemirror_mode": {
    "name": "ipython",
    "version": 3
   },
   "file_extension": ".py",
   "mimetype": "text/x-python",
   "name": "python",
   "nbconvert_exporter": "python",
   "pygments_lexer": "ipython3",
   "version": "3.7.6"
  }
 },
 "nbformat": 4,
 "nbformat_minor": 4
}
